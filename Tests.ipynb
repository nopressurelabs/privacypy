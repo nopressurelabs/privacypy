{
 "metadata": {
  "name": "",
  "signature": "sha256:8011814e137c1b6b637493da82f80f974c8c5226e319757c67ce63e5e8b74bee"
 },
 "nbformat": 3,
 "nbformat_minor": 0,
 "worksheets": [
  {
   "cells": [
    {
     "cell_type": "code",
     "collapsed": false,
     "input": [
      "a = [0,1]\n",
      "b = [1]\n",
      "print a\n",
      "print b\n",
      "\n",
      "def update_a(a):\n",
      "    a.append(2)\n",
      "    print (a)\n",
      "\n",
      "update_a(a)\n",
      "update_a(b)"
     ],
     "language": "python",
     "metadata": {},
     "outputs": [
      {
       "output_type": "stream",
       "stream": "stdout",
       "text": [
        "[0, 1]\n",
        "[1]\n",
        "[0, 1, 2]\n",
        "[1, 2]\n"
       ]
      }
     ],
     "prompt_number": 15
    },
    {
     "cell_type": "code",
     "collapsed": false,
     "input": [],
     "language": "python",
     "metadata": {},
     "outputs": []
    }
   ],
   "metadata": {}
  }
 ]
}