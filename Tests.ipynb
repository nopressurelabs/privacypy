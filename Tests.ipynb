{
 "metadata": {
  "name": "",
  "signature": "sha256:a7b6d7d2e2f57e293ec153de08fbd1c36baa0d253341ab7abbd8aed32a3f476a"
 },
 "nbformat": 3,
 "nbformat_minor": 0,
 "worksheets": [
  {
   "cells": [
    {
     "cell_type": "code",
     "collapsed": false,
     "input": [
      "from collections import Counter\n",
      "\n",
      "profile = Counter({\"Arts\":0, \"Business\":0, \"Computers\":0,\"Games\":0, \"Health\":0, \"Home\":0,\n",
      "                  \"Kids and Teens\":0, \"News\":0, \"Recreation\":0, \"Reference\":0, \"Regional\":0,\n",
      "                  \"Science\":0, \"Shopping\":0, \"Society\":0, \"Sports\":0,\"World\":0})\n",
      "keywords = [u'Arts', u'Science', u'Regional', u'Arts', u'Science', u'Society', u'World', u'World', u'World', u'World', u'World', u'World', u'World', u'Computers', u'Science', u'Business', u'Arts', u'Arts', u'News', u'Computers', u'World', u'World', u'Computers', u'Computers', u'World']\n",
      "for key in keywords:\n",
      "    try:\n",
      "        profile[key] += 1\n",
      "    except KeyError, err:\n",
      "        profile[key] = 1"
     ],
     "language": "python",
     "metadata": {},
     "outputs": [],
     "prompt_number": 13
    },
    {
     "cell_type": "code",
     "collapsed": false,
     "input": [
      "profile"
     ],
     "language": "python",
     "metadata": {},
     "outputs": [
      {
       "metadata": {},
       "output_type": "pyout",
       "prompt_number": 14,
       "text": [
        "Counter({'World': 10, 'Arts': 4, 'Computers': 4, 'Science': 3, 'Business': 1, 'Regional': 1, 'Society': 1, 'News': 1, 'Kids and Teens': 0, 'Recreation': 0, 'Sports': 0, 'Games': 0, 'Shopping': 0, 'Reference': 0, 'Health': 0, 'Home': 0})"
       ]
      }
     ],
     "prompt_number": 14
    },
    {
     "cell_type": "code",
     "collapsed": false,
     "input": [],
     "language": "python",
     "metadata": {},
     "outputs": []
    }
   ],
   "metadata": {}
  }
 ]
}