{
 "metadata": {
  "name": "",
  "signature": "sha256:af5722b253f1905c324411b5ebc5b2a624ba7c99150f15088fa2f7f172ca1b2c"
 },
 "nbformat": 3,
 "nbformat_minor": 0,
 "worksheets": [
  {
   "cells": [
    {
     "cell_type": "code",
     "collapsed": false,
     "input": [
      "from collections import Counter\n",
      "profile = Counter({\"Arts\":0, \"Business\":0, \"Computers\":0,\"Games\":2, \"Health\":0, \"Home\":0,\n",
      "                  \"Kids and Teens\":0, \"News\":1, \"Recreation\":3, \"Reference\":0, \"Regional\":0,\n",
      "                  \"Science\":0, \"Shopping\":0, \"Society\":0, \"Sports\":0,\"World\":0})"
     ],
     "language": "python",
     "metadata": {},
     "outputs": [],
     "prompt_number": 35
    },
    {
     "cell_type": "code",
     "collapsed": false,
     "input": [
      "def calculate_relative_profile(profile):\n",
      "    rel_profile = profile.values()\n",
      "    new_profile = dict()\n",
      "    rel_sum = sum(rel_profile)\n",
      "    \n",
      "    for item in profile.items():\n",
      "        new_profile[item[0]] = float(float(item[1])/float(rel_sum))\n",
      "    return new_profile"
     ],
     "language": "python",
     "metadata": {},
     "outputs": [],
     "prompt_number": 52
    },
    {
     "cell_type": "code",
     "collapsed": false,
     "input": [
      "new_profile = calculate_relative_profile(profile)\n",
      "print new_profile"
     ],
     "language": "python",
     "metadata": {},
     "outputs": [
      {
       "output_type": "stream",
       "stream": "stdout",
       "text": [
        "{'Arts': 0.0, 'Regional': 0.0, 'Shopping': 0.0, 'Business': 0.0, 'Reference': 0.0, 'Health': 0.0, 'Kids and Teens': 0.0, 'Computers': 0.0, 'Recreation': 0.5, 'Sports': 0.0, 'News': 0.16666666666666666, 'Society': 0.0, 'Games': 0.3333333333333333, 'Science': 0.0, 'World': 0.0, 'Home': 0.0}\n"
       ]
      }
     ],
     "prompt_number": 53
    },
    {
     "cell_type": "code",
     "collapsed": false,
     "input": [],
     "language": "python",
     "metadata": {},
     "outputs": []
    }
   ],
   "metadata": {}
  }
 ]
}